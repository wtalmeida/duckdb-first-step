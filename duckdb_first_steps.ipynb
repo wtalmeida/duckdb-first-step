{
 "cells": [
  {
   "cell_type": "code",
   "execution_count": null,
   "metadata": {},
   "outputs": [],
   "source": [
    "import duckdb\n",
    "import pandas as pd\n",
    "import time"
   ]
  },
  {
   "cell_type": "code",
   "execution_count": null,
   "metadata": {},
   "outputs": [],
   "source": [
    "exec_time = time.time()\n",
    "\n",
    "df = pd.read_csv(\"events.csv\")\n",
    "\n",
    "print(f\"time: {time.time() - exec_time}\")\n",
    "df.head(15)"
   ]
  },
  {
   "cell_type": "code",
   "execution_count": null,
   "metadata": {},
   "outputs": [],
   "source": [
    "# Maneira nao persistida\n",
    "conn = duckdb.connect()\n",
    "\n",
    "#OU\n",
    "\n",
    "# Maneira persistida\n",
    "conn = duckdb.connect(\"database_football.db\")"
   ]
  },
  {
   "cell_type": "code",
   "execution_count": null,
   "metadata": {},
   "outputs": [],
   "source": [
    "exec_time = time.time()\n",
    "\n",
    "df_duck = conn.execute(\"\"\"\n",
    "    SELECT *\n",
    "      FROM read_csv_auto('events.csv', header=True)\n",
    "    LIMIT 15\n",
    "\"\"\").df()\n",
    "\n",
    "print(f\"time: {time.time() - exec_time}\")\n",
    "df_duck"
   ]
  },
  {
   "cell_type": "code",
   "execution_count": null,
   "metadata": {},
   "outputs": [],
   "source": [
    "conn.register(\"tb_events\", df_duck)"
   ]
  },
  {
   "cell_type": "code",
   "execution_count": null,
   "metadata": {},
   "outputs": [],
   "source": [
    "conn.execute(\"\"\"\n",
    "    SHOW TABLES\n",
    "\"\"\").df()"
   ]
  },
  {
   "cell_type": "code",
   "execution_count": null,
   "metadata": {},
   "outputs": [],
   "source": [
    "conn.execute(\"\"\"\n",
    "    SELECT *\n",
    "      FROM tb_events\n",
    "    WHERE event_team = 'Borussia Dortmund'\n",
    "\"\"\").df()"
   ]
  }
 ],
 "metadata": {
  "kernelspec": {
   "display_name": ".venv",
   "language": "python",
   "name": "python3"
  },
  "language_info": {
   "codemirror_mode": {
    "name": "ipython",
    "version": 3
   },
   "file_extension": ".py",
   "mimetype": "text/x-python",
   "name": "python",
   "nbconvert_exporter": "python",
   "pygments_lexer": "ipython3",
   "version": "3.8.5"
  }
 },
 "nbformat": 4,
 "nbformat_minor": 2
}
